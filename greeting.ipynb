{
 "cells": [
  {
   "cell_type": "code",
   "execution_count": 3,
   "metadata": {},
   "outputs": [
    {
     "name": "stdout",
     "output_type": "stream",
     "text": [
      "Hello World! I am coming!\n"
     ]
    }
   ],
   "source": [
    "def hello():\n",
    "    print(\"Hello World! I am coming!\")\n",
    "    return\n",
    "\n",
    "hello()"
   ]
  },
  {
   "cell_type": "code",
   "execution_count": 19,
   "metadata": {},
   "outputs": [
    {
     "name": "stdout",
     "output_type": "stream",
     "text": [
      "Hello World! Summer Welcome t0 China!\n"
     ]
    }
   ],
   "source": [
    "def helloN(name):\n",
    "    name = 'Summer'\n",
    "    print (\"Hello World!\", name,\"Welcome to China!\")\n",
    "    \n",
    "helloN('name')\n"
   ]
  },
  {
   "cell_type": "code",
   "execution_count": 20,
   "metadata": {},
   "outputs": [
    {
     "name": "stdout",
     "output_type": "stream",
     "text": [
      "8\n",
      "1\n",
      "154\n"
     ]
    }
   ],
   "source": [
    "def add(a,b):\n",
    "    return a+b\n",
    "\n",
    "def reduce(a,b):\n",
    "    return a-b\n",
    "\n",
    "def mutiply(a,b):\n",
    "    return a*b\n",
    "\n",
    "\n",
    "print(add(2,6))\n",
    "print(reduce(9,8))\n",
    "print(mutiply(22,7))\n",
    "\n"
   ]
  },
  {
   "cell_type": "code",
   "execution_count": 18,
   "metadata": {},
   "outputs": [
    {
     "name": "stdout",
     "output_type": "stream",
     "text": [
      "720\n"
     ]
    }
   ],
   "source": [
    "def fact(n):\n",
    "    if n==1:\n",
    "        return 1\n",
    "    else:\n",
    "        return n*fact(n-1)\n",
    "print(fact(6))\n"
   ]
  },
  {
   "cell_type": "code",
   "execution_count": 23,
   "metadata": {},
   "outputs": [
    {
     "name": "stdout",
     "output_type": "stream",
     "text": [
      "My name is Jack and I come from Beijing \n",
      "Hello,everyone!\n"
     ]
    }
   ],
   "source": [
    "name = \"Jack\"\n",
    "city = \"Beijing\"\n",
    "print(\"My name is %s and I come from %s \"%(name ,city))\n",
    "print(\"Hello,everyone!\")\n",
    "\n"
   ]
  },
  {
   "cell_type": "code",
   "execution_count": 30,
   "metadata": {},
   "outputs": [
    {
     "name": "stdout",
     "output_type": "stream",
     "text": [
      "My name is Jack and I come from Beijing\n",
      "Hello, everyone !\n",
      "My name is Rose and I come from Nework\n",
      "Hello, everyone !\n",
      "My name is Tom and I come from Shanghai\n",
      "Hello, everyone !\n",
      "My name is Jerry and I come from Hangzhou\n",
      "Hello, everyone !\n"
     ]
    }
   ],
   "source": [
    "class Student():\n",
    "    def __init__(self,name,city):\n",
    "        self.name = name\n",
    "        self.city = city\n",
    "        print(\"My name is %s and I come from %s\" %(name ,city))\n",
    "    \n",
    "    def greet(self):\n",
    "        print(\"Hello, everyone !\")\n",
    "        \n",
    "stu1 = Student(\"Jack\",\"Beijing\")\n",
    "stu1.greet()\n",
    "\n",
    "stu2 = Student(\"Rose\",\"Nework\")\n",
    "stu2.greet()\n",
    "\n",
    "stu3 =Student(\"Tom\",\"Shanghai\")\n",
    "stu3.greet()\n",
    "\n",
    "stu4 =Student(\"Jerry\",\"Hangzhou\")\n",
    "stu4.greet()"
   ]
  },
  {
   "cell_type": "code",
   "execution_count": 49,
   "metadata": {},
   "outputs": [],
   "source": [
    "class Robot():\n",
    "    def __init__(self,q,a):\n",
    "        self.q=''\n",
    "        self.a=''\n",
    "        \n",
    "    def think(self,s):\n",
    "        return s\n",
    "        \n",
    "    def run(self):\n",
    "        print(self,q)\n",
    "        self.a=input()\n",
    "        print(self,think(self,a))\n",
    "        \n",
    "class Hellobot(Robot):\n",
    "    def __init__(self,q,a):\n",
    "        self.q='Hi,what\\'s your name?'\n",
    "        def _think(self,s):\n",
    "            return f'Hello {s}!'\n",
    "        h = Hellobot()\n",
    "        h.run()\n",
    "        "
   ]
  },
  {
   "cell_type": "code",
   "execution_count": null,
   "metadata": {},
   "outputs": [],
   "source": []
  },
  {
   "cell_type": "code",
   "execution_count": null,
   "metadata": {},
   "outputs": [],
   "source": []
  }
 ],
 "metadata": {
  "kernelspec": {
   "display_name": "Python 3",
   "language": "python",
   "name": "python3"
  },
  "language_info": {
   "codemirror_mode": {
    "name": "ipython",
    "version": 3
   },
   "file_extension": ".py",
   "mimetype": "text/x-python",
   "name": "python",
   "nbconvert_exporter": "python",
   "pygments_lexer": "ipython3",
   "version": "3.7.4"
  }
 },
 "nbformat": 4,
 "nbformat_minor": 4
}
